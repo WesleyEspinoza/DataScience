{
 "cells": [
  {
   "cell_type": "code",
   "execution_count": 14,
   "metadata": {},
   "outputs": [],
   "source": [
    "# Function that creates a histogram from data.\n",
    "import string\n",
    "import matplotlib.pyplot as plt\n",
    "\n",
    "def customHist(text):\n",
    "    hist = {}\n",
    "    clean_text = text.translate(str.maketrans('', '', string.punctuation))\n",
    "    \n",
    "    split = clean_text.split(' ')\n",
    "    \n",
    "    for word in split:\n",
    "        lower_word = word.lower()\n",
    "        if lower_word in hist:\n",
    "            hist[lower_word] += 1\n",
    "        else:\n",
    "            hist[lower_word] = 1\n",
    "            \n",
    "    plt.bar(range(len(hist)), list(hist.values()), align='center')\n",
    "    plt.xticks(range(len(hist)), list(hist.keys()))\n",
    "    plt.show()"
   ]
  },
  {
   "cell_type": "code",
   "execution_count": 16,
   "metadata": {},
   "outputs": [
    {
     "data": {
      "image/png": "[encoded data removed]",
      "text/plain": [
       "<Figure size 432x288 with 1 Axes>"
      ]
     },
     "metadata": {
      "needs_background": "light"
     },
     "output_type": "display_data"
    }
   ],
   "source": [
    "customHist(\"Hi how, are you. No i said. Hey how are you. test test test test test test test Test\"\n",
    "          )"
   ]
  },
  {
   "cell_type": "code",
   "execution_count": null,
   "metadata": {},
   "outputs": [],
   "source": []
  }
 ],
 "metadata": {
  "kernelspec": {
   "display_name": "Python 2",
   "language": "python",
   "name": "python2"
  },
  "language_info": {
   "codemirror_mode": {
    "name": "ipython",
    "version": 3
   },
   "file_extension": ".py",
   "mimetype": "text/x-python",
   "name": "python",
   "nbconvert_exporter": "python",
   "pygments_lexer": "ipython3",
   "version": "3.7.3"
  }
 },
 "nbformat": 4,
 "nbformat_minor": 2
}
