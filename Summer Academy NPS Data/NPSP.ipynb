{
 "cells": [
  {
   "cell_type": "markdown",
   "metadata": {
    "slideshow": {
     "slide_type": "slide"
    }
   },
   "source": [
    "# 2017 MakeSchool NPS"
   ]
  },
  {
   "cell_type": "code",
   "execution_count": 1,
   "metadata": {
    "scrolled": true,
    "slideshow": {
     "slide_type": "slide"
    }
   },
   "outputs": [
    {
     "data": {
      "text/html": [
       "<div>\n",
       "<style scoped>\n",
       "    .dataframe tbody tr th:only-of-type {\n",
       "        vertical-align: middle;\n",
       "    }\n",
       "\n",
       "    .dataframe tbody tr th {\n",
       "        vertical-align: top;\n",
       "    }\n",
       "\n",
       "    .dataframe thead th {\n",
       "        text-align: right;\n",
       "    }\n",
       "</style>\n",
       "<table border=\"1\" class=\"dataframe\">\n",
       "  <thead>\n",
       "    <tr style=\"text-align: right;\">\n",
       "      <th></th>\n",
       "      <th>ID</th>\n",
       "      <th>Location</th>\n",
       "      <th>Track</th>\n",
       "      <th>Week</th>\n",
       "      <th>Rating (Num)</th>\n",
       "      <th>Schedule Pacing</th>\n",
       "    </tr>\n",
       "  </thead>\n",
       "  <tbody>\n",
       "    <tr>\n",
       "      <th>0</th>\n",
       "      <td>134</td>\n",
       "      <td>San Francisco</td>\n",
       "      <td>Apps, Explorer</td>\n",
       "      <td>1</td>\n",
       "      <td>3</td>\n",
       "      <td>Just right</td>\n",
       "    </tr>\n",
       "    <tr>\n",
       "      <th>1</th>\n",
       "      <td>36</td>\n",
       "      <td>Los Angeles</td>\n",
       "      <td>Apps</td>\n",
       "      <td>1</td>\n",
       "      <td>4</td>\n",
       "      <td>A little too fast</td>\n",
       "    </tr>\n",
       "    <tr>\n",
       "      <th>2</th>\n",
       "      <td>117</td>\n",
       "      <td>San Francisco</td>\n",
       "      <td>Games</td>\n",
       "      <td>1</td>\n",
       "      <td>4</td>\n",
       "      <td>Way too slow</td>\n",
       "    </tr>\n",
       "    <tr>\n",
       "      <th>3</th>\n",
       "      <td>253</td>\n",
       "      <td>NaN</td>\n",
       "      <td>NaN</td>\n",
       "      <td>2</td>\n",
       "      <td>4</td>\n",
       "      <td>A little too fast</td>\n",
       "    </tr>\n",
       "    <tr>\n",
       "      <th>4</th>\n",
       "      <td>350</td>\n",
       "      <td>New York City</td>\n",
       "      <td>Apps, Explorer</td>\n",
       "      <td>1</td>\n",
       "      <td>4</td>\n",
       "      <td>Just right</td>\n",
       "    </tr>\n",
       "    <tr>\n",
       "      <th>5</th>\n",
       "      <td>23</td>\n",
       "      <td>Redwood City</td>\n",
       "      <td>Apps</td>\n",
       "      <td>1</td>\n",
       "      <td>5</td>\n",
       "      <td>Just right</td>\n",
       "    </tr>\n",
       "    <tr>\n",
       "      <th>6</th>\n",
       "      <td>28</td>\n",
       "      <td>Los Angeles</td>\n",
       "      <td>Apps</td>\n",
       "      <td>7</td>\n",
       "      <td>5</td>\n",
       "      <td>Just right</td>\n",
       "    </tr>\n",
       "    <tr>\n",
       "      <th>7</th>\n",
       "      <td>65</td>\n",
       "      <td>San Francisco</td>\n",
       "      <td>Apps</td>\n",
       "      <td>1</td>\n",
       "      <td>5</td>\n",
       "      <td>A little too slow</td>\n",
       "    </tr>\n",
       "    <tr>\n",
       "      <th>8</th>\n",
       "      <td>101</td>\n",
       "      <td>Santa Clara</td>\n",
       "      <td>Apps</td>\n",
       "      <td>1</td>\n",
       "      <td>5</td>\n",
       "      <td>A little too slow</td>\n",
       "    </tr>\n",
       "    <tr>\n",
       "      <th>9</th>\n",
       "      <td>124</td>\n",
       "      <td>Santa Clara</td>\n",
       "      <td>Apps</td>\n",
       "      <td>1</td>\n",
       "      <td>5</td>\n",
       "      <td>Just right</td>\n",
       "    </tr>\n",
       "    <tr>\n",
       "      <th>10</th>\n",
       "      <td>157</td>\n",
       "      <td>Redwood City</td>\n",
       "      <td>Apps</td>\n",
       "      <td>2</td>\n",
       "      <td>5</td>\n",
       "      <td>Just right</td>\n",
       "    </tr>\n",
       "    <tr>\n",
       "      <th>11</th>\n",
       "      <td>170</td>\n",
       "      <td>Oakland</td>\n",
       "      <td>Apps</td>\n",
       "      <td>2</td>\n",
       "      <td>5</td>\n",
       "      <td>Just right</td>\n",
       "    </tr>\n",
       "    <tr>\n",
       "      <th>12</th>\n",
       "      <td>255</td>\n",
       "      <td>San Francisco</td>\n",
       "      <td>Apps</td>\n",
       "      <td>2</td>\n",
       "      <td>5</td>\n",
       "      <td>Way too fast</td>\n",
       "    </tr>\n",
       "    <tr>\n",
       "      <th>13</th>\n",
       "      <td>289</td>\n",
       "      <td>Washington DC</td>\n",
       "      <td>Apps</td>\n",
       "      <td>1</td>\n",
       "      <td>5</td>\n",
       "      <td>Just right</td>\n",
       "    </tr>\n",
       "    <tr>\n",
       "      <th>14</th>\n",
       "      <td>299</td>\n",
       "      <td>Washington DC</td>\n",
       "      <td>Apps, Explorer</td>\n",
       "      <td>1</td>\n",
       "      <td>5</td>\n",
       "      <td>A little too slow</td>\n",
       "    </tr>\n",
       "    <tr>\n",
       "      <th>15</th>\n",
       "      <td>307</td>\n",
       "      <td>NaN</td>\n",
       "      <td>NaN</td>\n",
       "      <td>3</td>\n",
       "      <td>5</td>\n",
       "      <td>A little too slow</td>\n",
       "    </tr>\n",
       "    <tr>\n",
       "      <th>16</th>\n",
       "      <td>319</td>\n",
       "      <td>Redwood City</td>\n",
       "      <td>Apps</td>\n",
       "      <td>3</td>\n",
       "      <td>5</td>\n",
       "      <td>Just right</td>\n",
       "    </tr>\n",
       "    <tr>\n",
       "      <th>17</th>\n",
       "      <td>336</td>\n",
       "      <td>New York City</td>\n",
       "      <td>Apps</td>\n",
       "      <td>1</td>\n",
       "      <td>5</td>\n",
       "      <td>A little too slow</td>\n",
       "    </tr>\n",
       "    <tr>\n",
       "      <th>18</th>\n",
       "      <td>441</td>\n",
       "      <td>San Francisco</td>\n",
       "      <td>Apps, Explorer</td>\n",
       "      <td>3</td>\n",
       "      <td>5</td>\n",
       "      <td>Just right</td>\n",
       "    </tr>\n",
       "    <tr>\n",
       "      <th>19</th>\n",
       "      <td>482</td>\n",
       "      <td>Santa Clara</td>\n",
       "      <td>Apps</td>\n",
       "      <td>3</td>\n",
       "      <td>5</td>\n",
       "      <td>Just right</td>\n",
       "    </tr>\n",
       "    <tr>\n",
       "      <th>20</th>\n",
       "      <td>37</td>\n",
       "      <td>Los Angeles</td>\n",
       "      <td>Games</td>\n",
       "      <td>1</td>\n",
       "      <td>6</td>\n",
       "      <td>Just right</td>\n",
       "    </tr>\n",
       "    <tr>\n",
       "      <th>21</th>\n",
       "      <td>41</td>\n",
       "      <td>Chicago</td>\n",
       "      <td>Apps, Explorer</td>\n",
       "      <td>1</td>\n",
       "      <td>6</td>\n",
       "      <td>Just right</td>\n",
       "    </tr>\n",
       "    <tr>\n",
       "      <th>22</th>\n",
       "      <td>45</td>\n",
       "      <td>Chicago</td>\n",
       "      <td>Apps</td>\n",
       "      <td>1</td>\n",
       "      <td>6</td>\n",
       "      <td>A little too slow</td>\n",
       "    </tr>\n",
       "    <tr>\n",
       "      <th>23</th>\n",
       "      <td>47</td>\n",
       "      <td>Chicago</td>\n",
       "      <td>Apps</td>\n",
       "      <td>1</td>\n",
       "      <td>6</td>\n",
       "      <td>A little too slow</td>\n",
       "    </tr>\n",
       "    <tr>\n",
       "      <th>24</th>\n",
       "      <td>77</td>\n",
       "      <td>San Francisco</td>\n",
       "      <td>Apps</td>\n",
       "      <td>1</td>\n",
       "      <td>6</td>\n",
       "      <td>A little too fast</td>\n",
       "    </tr>\n",
       "    <tr>\n",
       "      <th>25</th>\n",
       "      <td>78</td>\n",
       "      <td>San Francisco</td>\n",
       "      <td>Apps</td>\n",
       "      <td>1</td>\n",
       "      <td>6</td>\n",
       "      <td>A little too fast</td>\n",
       "    </tr>\n",
       "    <tr>\n",
       "      <th>26</th>\n",
       "      <td>94</td>\n",
       "      <td>San Francisco</td>\n",
       "      <td>Apps, Explorer</td>\n",
       "      <td>1</td>\n",
       "      <td>6</td>\n",
       "      <td>Just right</td>\n",
       "    </tr>\n",
       "    <tr>\n",
       "      <th>27</th>\n",
       "      <td>193</td>\n",
       "      <td>Santa Clara</td>\n",
       "      <td>Apps</td>\n",
       "      <td>2</td>\n",
       "      <td>6</td>\n",
       "      <td>Just right</td>\n",
       "    </tr>\n",
       "    <tr>\n",
       "      <th>28</th>\n",
       "      <td>251</td>\n",
       "      <td>San Francisco</td>\n",
       "      <td>Apps, Explorer</td>\n",
       "      <td>2</td>\n",
       "      <td>6</td>\n",
       "      <td>Just right</td>\n",
       "    </tr>\n",
       "    <tr>\n",
       "      <th>29</th>\n",
       "      <td>254</td>\n",
       "      <td>San Francisco</td>\n",
       "      <td>Apps</td>\n",
       "      <td>2</td>\n",
       "      <td>6</td>\n",
       "      <td>Way too fast</td>\n",
       "    </tr>\n",
       "    <tr>\n",
       "      <th>...</th>\n",
       "      <td>...</td>\n",
       "      <td>...</td>\n",
       "      <td>...</td>\n",
       "      <td>...</td>\n",
       "      <td>...</td>\n",
       "      <td>...</td>\n",
       "    </tr>\n",
       "    <tr>\n",
       "      <th>1423</th>\n",
       "      <td>1470</td>\n",
       "      <td>New York City</td>\n",
       "      <td>Games</td>\n",
       "      <td>7</td>\n",
       "      <td>10</td>\n",
       "      <td>Just right</td>\n",
       "    </tr>\n",
       "    <tr>\n",
       "      <th>1424</th>\n",
       "      <td>1471</td>\n",
       "      <td>New York City</td>\n",
       "      <td>Apps</td>\n",
       "      <td>7</td>\n",
       "      <td>8</td>\n",
       "      <td>Just right</td>\n",
       "    </tr>\n",
       "    <tr>\n",
       "      <th>1425</th>\n",
       "      <td>1472</td>\n",
       "      <td>New York City</td>\n",
       "      <td>Games</td>\n",
       "      <td>7</td>\n",
       "      <td>9</td>\n",
       "      <td>Just right</td>\n",
       "    </tr>\n",
       "    <tr>\n",
       "      <th>1426</th>\n",
       "      <td>1473</td>\n",
       "      <td>New York City</td>\n",
       "      <td>Games, Explorer</td>\n",
       "      <td>7</td>\n",
       "      <td>10</td>\n",
       "      <td>Just right</td>\n",
       "    </tr>\n",
       "    <tr>\n",
       "      <th>1427</th>\n",
       "      <td>1474</td>\n",
       "      <td>New York City</td>\n",
       "      <td>Games</td>\n",
       "      <td>7</td>\n",
       "      <td>9</td>\n",
       "      <td>Just right</td>\n",
       "    </tr>\n",
       "    <tr>\n",
       "      <th>1428</th>\n",
       "      <td>1475</td>\n",
       "      <td>New York City</td>\n",
       "      <td>Apps</td>\n",
       "      <td>7</td>\n",
       "      <td>9</td>\n",
       "      <td>Just right</td>\n",
       "    </tr>\n",
       "    <tr>\n",
       "      <th>1429</th>\n",
       "      <td>1476</td>\n",
       "      <td>New York City</td>\n",
       "      <td>Apps</td>\n",
       "      <td>7</td>\n",
       "      <td>8</td>\n",
       "      <td>A little too fast</td>\n",
       "    </tr>\n",
       "    <tr>\n",
       "      <th>1430</th>\n",
       "      <td>1477</td>\n",
       "      <td>New York City</td>\n",
       "      <td>Games</td>\n",
       "      <td>7</td>\n",
       "      <td>10</td>\n",
       "      <td>Just right</td>\n",
       "    </tr>\n",
       "    <tr>\n",
       "      <th>1431</th>\n",
       "      <td>1478</td>\n",
       "      <td>New York City</td>\n",
       "      <td>Apps</td>\n",
       "      <td>7</td>\n",
       "      <td>10</td>\n",
       "      <td>Just right</td>\n",
       "    </tr>\n",
       "    <tr>\n",
       "      <th>1432</th>\n",
       "      <td>1479</td>\n",
       "      <td>New York City</td>\n",
       "      <td>Games</td>\n",
       "      <td>7</td>\n",
       "      <td>9</td>\n",
       "      <td>Just right</td>\n",
       "    </tr>\n",
       "    <tr>\n",
       "      <th>1433</th>\n",
       "      <td>1480</td>\n",
       "      <td>New York City</td>\n",
       "      <td>Apps</td>\n",
       "      <td>7</td>\n",
       "      <td>9</td>\n",
       "      <td>Just right</td>\n",
       "    </tr>\n",
       "    <tr>\n",
       "      <th>1434</th>\n",
       "      <td>1481</td>\n",
       "      <td>New York City</td>\n",
       "      <td>Apps</td>\n",
       "      <td>7</td>\n",
       "      <td>10</td>\n",
       "      <td>Just right</td>\n",
       "    </tr>\n",
       "    <tr>\n",
       "      <th>1435</th>\n",
       "      <td>1482</td>\n",
       "      <td>New York City</td>\n",
       "      <td>Apps</td>\n",
       "      <td>7</td>\n",
       "      <td>8</td>\n",
       "      <td>Just right</td>\n",
       "    </tr>\n",
       "    <tr>\n",
       "      <th>1436</th>\n",
       "      <td>1483</td>\n",
       "      <td>New York City</td>\n",
       "      <td>Apps</td>\n",
       "      <td>7</td>\n",
       "      <td>7</td>\n",
       "      <td>A little too fast</td>\n",
       "    </tr>\n",
       "    <tr>\n",
       "      <th>1437</th>\n",
       "      <td>1484</td>\n",
       "      <td>New York City</td>\n",
       "      <td>Apps, Explorer</td>\n",
       "      <td>7</td>\n",
       "      <td>7</td>\n",
       "      <td>Way too fast</td>\n",
       "    </tr>\n",
       "    <tr>\n",
       "      <th>1438</th>\n",
       "      <td>1485</td>\n",
       "      <td>New York City</td>\n",
       "      <td>Apps</td>\n",
       "      <td>7</td>\n",
       "      <td>7</td>\n",
       "      <td>Just right</td>\n",
       "    </tr>\n",
       "    <tr>\n",
       "      <th>1439</th>\n",
       "      <td>1486</td>\n",
       "      <td>New York City</td>\n",
       "      <td>Apps</td>\n",
       "      <td>7</td>\n",
       "      <td>9</td>\n",
       "      <td>Just right</td>\n",
       "    </tr>\n",
       "    <tr>\n",
       "      <th>1440</th>\n",
       "      <td>1487</td>\n",
       "      <td>New York City</td>\n",
       "      <td>Apps</td>\n",
       "      <td>7</td>\n",
       "      <td>8</td>\n",
       "      <td>Just right</td>\n",
       "    </tr>\n",
       "    <tr>\n",
       "      <th>1441</th>\n",
       "      <td>1488</td>\n",
       "      <td>New York City</td>\n",
       "      <td>Games, Explorer</td>\n",
       "      <td>7</td>\n",
       "      <td>7</td>\n",
       "      <td>Just right</td>\n",
       "    </tr>\n",
       "    <tr>\n",
       "      <th>1442</th>\n",
       "      <td>1489</td>\n",
       "      <td>New York City</td>\n",
       "      <td>Apps, Explorer</td>\n",
       "      <td>7</td>\n",
       "      <td>10</td>\n",
       "      <td>Just right</td>\n",
       "    </tr>\n",
       "    <tr>\n",
       "      <th>1443</th>\n",
       "      <td>1490</td>\n",
       "      <td>New York City</td>\n",
       "      <td>Apps, Explorer</td>\n",
       "      <td>7</td>\n",
       "      <td>10</td>\n",
       "      <td>Just right</td>\n",
       "    </tr>\n",
       "    <tr>\n",
       "      <th>1444</th>\n",
       "      <td>1491</td>\n",
       "      <td>New York City</td>\n",
       "      <td>Games</td>\n",
       "      <td>7</td>\n",
       "      <td>9</td>\n",
       "      <td>A little too fast</td>\n",
       "    </tr>\n",
       "    <tr>\n",
       "      <th>1445</th>\n",
       "      <td>1492</td>\n",
       "      <td>New York City</td>\n",
       "      <td>Apps</td>\n",
       "      <td>7</td>\n",
       "      <td>9</td>\n",
       "      <td>Just right</td>\n",
       "    </tr>\n",
       "    <tr>\n",
       "      <th>1446</th>\n",
       "      <td>1493</td>\n",
       "      <td>New York City</td>\n",
       "      <td>Apps</td>\n",
       "      <td>7</td>\n",
       "      <td>3</td>\n",
       "      <td>Just right</td>\n",
       "    </tr>\n",
       "    <tr>\n",
       "      <th>1447</th>\n",
       "      <td>1494</td>\n",
       "      <td>New York City</td>\n",
       "      <td>Games, Explorer</td>\n",
       "      <td>7</td>\n",
       "      <td>10</td>\n",
       "      <td>Just right</td>\n",
       "    </tr>\n",
       "    <tr>\n",
       "      <th>1448</th>\n",
       "      <td>1495</td>\n",
       "      <td>New York City</td>\n",
       "      <td>Apps, Explorer</td>\n",
       "      <td>7</td>\n",
       "      <td>10</td>\n",
       "      <td>Just right</td>\n",
       "    </tr>\n",
       "    <tr>\n",
       "      <th>1449</th>\n",
       "      <td>1496</td>\n",
       "      <td>New York City</td>\n",
       "      <td>Apps, Explorer</td>\n",
       "      <td>7</td>\n",
       "      <td>8</td>\n",
       "      <td>Just right</td>\n",
       "    </tr>\n",
       "    <tr>\n",
       "      <th>1450</th>\n",
       "      <td>1497</td>\n",
       "      <td>New York City</td>\n",
       "      <td>Apps</td>\n",
       "      <td>7</td>\n",
       "      <td>10</td>\n",
       "      <td>Just right</td>\n",
       "    </tr>\n",
       "    <tr>\n",
       "      <th>1451</th>\n",
       "      <td>1498</td>\n",
       "      <td>New York City</td>\n",
       "      <td>Apps, Explorer</td>\n",
       "      <td>7</td>\n",
       "      <td>1</td>\n",
       "      <td>A little too slow</td>\n",
       "    </tr>\n",
       "    <tr>\n",
       "      <th>1452</th>\n",
       "      <td>1499</td>\n",
       "      <td>New York City</td>\n",
       "      <td>Apps</td>\n",
       "      <td>5</td>\n",
       "      <td>8</td>\n",
       "      <td>Just right</td>\n",
       "    </tr>\n",
       "  </tbody>\n",
       "</table>\n",
       "<p>1453 rows × 6 columns</p>\n",
       "</div>"
      ],
      "text/plain": [
       "        ID       Location            Track  Week Rating (Num)  \\\n",
       "0      134  San Francisco   Apps, Explorer     1            3   \n",
       "1       36    Los Angeles             Apps     1            4   \n",
       "2      117  San Francisco            Games     1            4   \n",
       "3      253            NaN              NaN     2            4   \n",
       "4      350  New York City   Apps, Explorer     1            4   \n",
       "5       23   Redwood City             Apps     1            5   \n",
       "6       28    Los Angeles             Apps     7            5   \n",
       "7       65  San Francisco             Apps     1            5   \n",
       "8      101    Santa Clara             Apps     1            5   \n",
       "9      124    Santa Clara             Apps     1            5   \n",
       "10     157   Redwood City             Apps     2            5   \n",
       "11     170        Oakland             Apps     2            5   \n",
       "12     255  San Francisco             Apps     2            5   \n",
       "13     289  Washington DC             Apps     1            5   \n",
       "14     299  Washington DC   Apps, Explorer     1            5   \n",
       "15     307            NaN              NaN     3            5   \n",
       "16     319   Redwood City             Apps     3            5   \n",
       "17     336  New York City             Apps     1            5   \n",
       "18     441  San Francisco   Apps, Explorer     3            5   \n",
       "19     482    Santa Clara             Apps     3            5   \n",
       "20      37    Los Angeles            Games     1            6   \n",
       "21      41        Chicago   Apps, Explorer     1            6   \n",
       "22      45        Chicago             Apps     1            6   \n",
       "23      47        Chicago             Apps     1            6   \n",
       "24      77  San Francisco             Apps     1            6   \n",
       "25      78  San Francisco             Apps     1            6   \n",
       "26      94  San Francisco   Apps, Explorer     1            6   \n",
       "27     193    Santa Clara             Apps     2            6   \n",
       "28     251  San Francisco   Apps, Explorer     2            6   \n",
       "29     254  San Francisco             Apps     2            6   \n",
       "...    ...            ...              ...   ...          ...   \n",
       "1423  1470  New York City            Games     7           10   \n",
       "1424  1471  New York City             Apps     7            8   \n",
       "1425  1472  New York City            Games     7            9   \n",
       "1426  1473  New York City  Games, Explorer     7           10   \n",
       "1427  1474  New York City            Games     7            9   \n",
       "1428  1475  New York City             Apps     7            9   \n",
       "1429  1476  New York City             Apps     7            8   \n",
       "1430  1477  New York City            Games     7           10   \n",
       "1431  1478  New York City             Apps     7           10   \n",
       "1432  1479  New York City            Games     7            9   \n",
       "1433  1480  New York City             Apps     7            9   \n",
       "1434  1481  New York City             Apps     7           10   \n",
       "1435  1482  New York City             Apps     7            8   \n",
       "1436  1483  New York City             Apps     7            7   \n",
       "1437  1484  New York City   Apps, Explorer     7            7   \n",
       "1438  1485  New York City             Apps     7            7   \n",
       "1439  1486  New York City             Apps     7            9   \n",
       "1440  1487  New York City             Apps     7            8   \n",
       "1441  1488  New York City  Games, Explorer     7            7   \n",
       "1442  1489  New York City   Apps, Explorer     7           10   \n",
       "1443  1490  New York City   Apps, Explorer     7           10   \n",
       "1444  1491  New York City            Games     7            9   \n",
       "1445  1492  New York City             Apps     7            9   \n",
       "1446  1493  New York City             Apps     7            3   \n",
       "1447  1494  New York City  Games, Explorer     7           10   \n",
       "1448  1495  New York City   Apps, Explorer     7           10   \n",
       "1449  1496  New York City   Apps, Explorer     7            8   \n",
       "1450  1497  New York City             Apps     7           10   \n",
       "1451  1498  New York City   Apps, Explorer     7            1   \n",
       "1452  1499  New York City             Apps     5            8   \n",
       "\n",
       "        Schedule Pacing  \n",
       "0            Just right  \n",
       "1     A little too fast  \n",
       "2          Way too slow  \n",
       "3     A little too fast  \n",
       "4            Just right  \n",
       "5            Just right  \n",
       "6            Just right  \n",
       "7     A little too slow  \n",
       "8     A little too slow  \n",
       "9            Just right  \n",
       "10           Just right  \n",
       "11           Just right  \n",
       "12         Way too fast  \n",
       "13           Just right  \n",
       "14    A little too slow  \n",
       "15    A little too slow  \n",
       "16           Just right  \n",
       "17    A little too slow  \n",
       "18           Just right  \n",
       "19           Just right  \n",
       "20           Just right  \n",
       "21           Just right  \n",
       "22    A little too slow  \n",
       "23    A little too slow  \n",
       "24    A little too fast  \n",
       "25    A little too fast  \n",
       "26           Just right  \n",
       "27           Just right  \n",
       "28           Just right  \n",
       "29         Way too fast  \n",
       "...                 ...  \n",
       "1423         Just right  \n",
       "1424         Just right  \n",
       "1425         Just right  \n",
       "1426         Just right  \n",
       "1427         Just right  \n",
       "1428         Just right  \n",
       "1429  A little too fast  \n",
       "1430         Just right  \n",
       "1431         Just right  \n",
       "1432         Just right  \n",
       "1433         Just right  \n",
       "1434         Just right  \n",
       "1435         Just right  \n",
       "1436  A little too fast  \n",
       "1437       Way too fast  \n",
       "1438         Just right  \n",
       "1439         Just right  \n",
       "1440         Just right  \n",
       "1441         Just right  \n",
       "1442         Just right  \n",
       "1443         Just right  \n",
       "1444  A little too fast  \n",
       "1445         Just right  \n",
       "1446         Just right  \n",
       "1447         Just right  \n",
       "1448         Just right  \n",
       "1449         Just right  \n",
       "1450         Just right  \n",
       "1451  A little too slow  \n",
       "1452         Just right  \n",
       "\n",
       "[1453 rows x 6 columns]"
      ]
     },
     "execution_count": 1,
     "metadata": {},
     "output_type": "execute_result"
    }
   ],
   "source": [
    "import pandas as pd\n",
    "import csv\n",
    "\n",
    "inputfile = csv.reader(open('2017dataset.csv','r'))\n",
    "data_arr = []\n",
    "for row in inputfile:\n",
    "    if row[3] != \"Week\":\n",
    "        row[3] = int(row[3].replace('Week ',''))\n",
    "        data_arr.append(row)\n",
    "    else:\n",
    "        row[3] = row[3].replace('Week ','')\n",
    "        data_arr.append(row)\n",
    "        \n",
    "with open('new2017data.csv', 'w') as csvFile:\n",
    "    writer = csv.writer(csvFile)\n",
    "    writer.writerows(data_arr)\n",
    "    \n",
    "data = pd.read_csv('new2017data.csv')\n",
    "\n",
    "\n",
    "data\n",
    "\n"
   ]
  },
  {
   "cell_type": "markdown",
   "metadata": {
    "slideshow": {
     "slide_type": "subslide"
    }
   },
   "source": [
    "# How many more promoters are there than detractors across our 2017 data?\n",
    "\n",
    "##### Across the 2017 data 52.41% of the students are promoters compared to the 8.34% detractors \n"
   ]
  },
  {
   "cell_type": "code",
   "execution_count": 2,
   "metadata": {
    "slideshow": {
     "slide_type": "subslide"
    }
   },
   "outputs": [
    {
     "name": "stdout",
     "output_type": "stream",
     "text": [
      "There are 639 more promoters than detractors\n",
      "52.41379310344828% of students who have a rating feedback are promoters\n",
      "39.241379310344826% of students who have a rating feedback are passives\n",
      "8.344827586206897% of students who have a rating feedback are detractors\n"
     ]
    }
   ],
   "source": [
    "promoters = len(data[(data['Rating (Num)'] == '9')  | (data['Rating (Num)'] == '10')])\n",
    "passives = len(data[(data['Rating (Num)'] == '7')  | (data['Rating (Num)'] == '8')])\n",
    "detractors = len(data[(data['Rating (Num)'] == '0') | (data['Rating (Num)'] == '1') | (data['Rating (Num)'] == '2') | (data['Rating (Num)'] == '3') | (data['Rating (Num)'] == '4') | (data['Rating (Num)'] == '5') | (data['Rating (Num)'] == '6')])\n",
    "\n",
    "promoters = int(promoters)\n",
    "passives = int(passives) \n",
    "detractors = int(detractors) \n",
    "\n",
    "print('There are {} more promoters than detractors'.format((promoters-detractors)))\n",
    "print('{}% of students who have a rating feedback are promoters'.format((promoters/(promoters + passives + detractors))*100))\n",
    "print('{}% of students who have a rating feedback are passives'.format((passives/(promoters + passives + detractors))*100))\n",
    "print('{}% of students who have a rating feedback are detractors'.format((detractors/(promoters + passives + detractors))*100))\n",
    "      \n"
   ]
  },
  {
   "cell_type": "markdown",
   "metadata": {
    "slideshow": {
     "slide_type": "subslide"
    }
   },
   "source": [
    "#### This results in an NPS of 44.0689655172"
   ]
  },
  {
   "cell_type": "code",
   "execution_count": 8,
   "metadata": {
    "slideshow": {
     "slide_type": "subslide"
    }
   },
   "outputs": [
    {
     "data": {
      "text/plain": [
       "<matplotlib.axes._subplots.AxesSubplot at 0x12036a390>"
      ]
     },
     "execution_count": 8,
     "metadata": {},
     "output_type": "execute_result"
    },
    {
     "data": {
      "image/png": "[encoded data removed]",
      "text/plain": [
       "<Figure size 432x288 with 1 Axes>"
      ]
     },
     "metadata": {
      "needs_background": "light"
     },
     "output_type": "display_data"
    }
   ],
   "source": [
    "import seaborn as sns\n",
    "sns.countplot(x=\"Rating (Num)\", palette=\"spring\", data=data)"
   ]
  },
  {
   "cell_type": "markdown",
   "metadata": {
    "slideshow": {
     "slide_type": "slide"
    }
   },
   "source": [
    "# Which track boasts the best promoter-to-detractor ratio?\n",
    "\n",
    "##### In the 2017 Data the Games, Explorer tracks boasts the best promoter-to-detractor ratio\n"
   ]
  },
  {
   "cell_type": "code",
   "execution_count": 3,
   "metadata": {
    "slideshow": {
     "slide_type": "subslide"
    }
   },
   "outputs": [
    {
     "data": {
      "text/plain": [
       "Track            Rating (Num)\n",
       "Apps             8               244\n",
       "                 9               234\n",
       "                 10              204\n",
       "                 7               111\n",
       "                 6                40\n",
       "                 5                25\n",
       "                 3                 5\n",
       "                 4                 5\n",
       "                 2                 2\n",
       "                 0                 1\n",
       "Apps, Explorer   8                73\n",
       "                 10               51\n",
       "                 9                40\n",
       "                 7                36\n",
       "                 6                 9\n",
       "                 5                 7\n",
       "                 3                 3\n",
       "                 4                 3\n",
       "                 1                 2\n",
       "Games            9                76\n",
       "                 10               57\n",
       "                 8                54\n",
       "                 7                12\n",
       "                 6                 6\n",
       "                 4                 2\n",
       "                 5                 1\n",
       "Games, Explorer  10               17\n",
       "                 9                14\n",
       "                 8                 7\n",
       "                 7                 5\n",
       "VR               10               34\n",
       "                 9                12\n",
       "                 8                 9\n",
       "                 7                 3\n",
       "                 4                 1\n",
       "                 6                 1\n",
       "Name: Rating (Num), dtype: int64"
      ]
     },
     "execution_count": 3,
     "metadata": {},
     "output_type": "execute_result"
    }
   ],
   "source": [
    "data.groupby(['Track'])['Rating (Num)'].value_counts()"
   ]
  },
  {
   "cell_type": "code",
   "execution_count": 10,
   "metadata": {
    "slideshow": {
     "slide_type": "skip"
    }
   },
   "outputs": [],
   "source": [
    "app_promoters = 234 + 204\n",
    "app_passives = 111 + 244\n",
    "app_detractors = 40 + 25 + 5 + 5 + 2 + 1\n",
    "\n",
    "appexp_promoters = 51 + 40\n",
    "appexp_passives = 73 + 36\n",
    "appexp_detractors = 9 + 7 + 3 + 3 + 2\n",
    "\n",
    "games_promoters = 76 + 57\n",
    "games_passives = 54 + 12\n",
    "games_detractors = 6 + 2 + 1\n",
    "\n",
    "gamesxp_promoters = 17 + 14\n",
    "gamesxp_passives = 7 + 5\n",
    "gamesxp_detractors = 0\n",
    "\n",
    "vr_promoters = 34 + 12\n",
    "vr_passives = 9 + 3\n",
    "vr_detractors = 2"
   ]
  },
  {
   "cell_type": "markdown",
   "metadata": {
    "slideshow": {
     "slide_type": "skip"
    }
   },
   "source": []
  },
  {
   "cell_type": "code",
   "execution_count": 13,
   "metadata": {
    "slideshow": {
     "slide_type": "subslide"
    }
   },
   "outputs": [
    {
     "data": {
      "text/plain": [
       "<matplotlib.axes._subplots.AxesSubplot at 0x1a228117f0>"
      ]
     },
     "execution_count": 13,
     "metadata": {},
     "output_type": "execute_result"
    },
    {
     "data": {
      "image/png": "[encoded data removed]",
      "text/plain": [
       "<Figure size 432x288 with 1 Axes>"
      ]
     },
     "metadata": {
      "needs_background": "light"
     },
     "output_type": "display_data"
    }
   ],
   "source": [
    "sns.countplot(x=\"Track\",hue=\"Rating (Num)\", data=data)"
   ]
  },
  {
   "cell_type": "code",
   "execution_count": 9,
   "metadata": {
    "slideshow": {
     "slide_type": "subslide"
    }
   },
   "outputs": [
    {
     "data": {
      "text/plain": [
       "<matplotlib.axes._subplots.AxesSubplot at 0x1a2268bda0>"
      ]
     },
     "execution_count": 9,
     "metadata": {},
     "output_type": "execute_result"
    },
    {
     "data": {
      "image/png": "[encoded data removed]",
      "text/plain": [
       "<Figure size 432x288 with 1 Axes>"
      ]
     },
     "metadata": {
      "needs_background": "light"
     },
     "output_type": "display_data"
    }
   ],
   "source": [
    "data.groupby(['Track'])['Rating (Num)'].value_counts().unstack().plot(kind='bar',stacked=True)"
   ]
  },
  {
   "cell_type": "markdown",
   "metadata": {
    "slideshow": {
     "slide_type": "slide"
    }
   },
   "source": [
    "# Does the student experience get better the longer that they are enrolled at the Summer Academy?\n",
    "\n",
    "##### The 2017 data shows that the experience gets better at a consistent rate.\n"
   ]
  },
  {
   "cell_type": "code",
   "execution_count": 5,
   "metadata": {
    "slideshow": {
     "slide_type": "subslide"
    }
   },
   "outputs": [
    {
     "name": "stdout",
     "output_type": "stream",
     "text": [
      "Week 1 had 51.9607843137255% promoters vs 9.477124183006536% detractors\n",
      "Week 8 had 77.77777777777779% promoters vs 22.22222222222222% passive and 0% detractors\n"
     ]
    },
    {
     "data": {
      "text/plain": [
       "Week  Rating (Num)\n",
       "1     8               91\n",
       "      10              68\n",
       "      9               61\n",
       "      7               40\n",
       "      6               12\n",
       "      5                9\n",
       "      4                6\n",
       "      3                1\n",
       "2     8               82\n",
       "      9               76\n",
       "      10              61\n",
       "      7               34\n",
       "      6               12\n",
       "      5                6\n",
       "      3                2\n",
       "      4                2\n",
       "      #ERROR!          1\n",
       "      0                1\n",
       "3     9               69\n",
       "      10              66\n",
       "      8               64\n",
       "      7               22\n",
       "      6               13\n",
       "      5                5\n",
       "      #ERROR!          2\n",
       "      1                1\n",
       "      3                1\n",
       "4     9               55\n",
       "      8               49\n",
       "      10              45\n",
       "                      ..\n",
       "      3                2\n",
       "5     10              52\n",
       "      8               45\n",
       "      9               45\n",
       "      7               22\n",
       "      6                7\n",
       "      5                4\n",
       "      4                2\n",
       "      0                1\n",
       "      2                1\n",
       "6     10              43\n",
       "      8               41\n",
       "      9               34\n",
       "      7               18\n",
       "      6                5\n",
       "      2                1\n",
       "      3                1\n",
       "      5                1\n",
       "7     9               41\n",
       "      10              37\n",
       "      8               19\n",
       "      7               15\n",
       "      5                4\n",
       "      6                2\n",
       "      1                1\n",
       "      3                1\n",
       "8     10               4\n",
       "      9                3\n",
       "      7                1\n",
       "      8                1\n",
       "Name: Rating (Num), Length: 64, dtype: int64"
      ]
     },
     "execution_count": 5,
     "metadata": {},
     "output_type": "execute_result"
    }
   ],
   "source": [
    "import seaborn as sns\n",
    "\n",
    "week1p =  98 + 61\n",
    "week1d = 2+6+9+12\n",
    "week1all = 8+91+10+68+61+40+12+9+6+1\n",
    "\n",
    "week8p =  4 + 3\n",
    "week8pas = 1 + 1\n",
    "week8all = week8p + week8pas\n",
    "\n",
    "\n",
    "\n",
    "print('Week 1 had {}% promoters vs {}% detractors'.format(((week1p/ week1all)* 100),((week1d/ week1all)* 100)))\n",
    "print('Week 8 had {}% promoters vs {}% passive and 0% detractors'.format(((week8p/ week8all)* 100),((week8pas/ week8all)* 100)))\n",
    "data.groupby(['Week'])['Rating (Num)'].value_counts()"
   ]
  },
  {
   "cell_type": "code",
   "execution_count": 6,
   "metadata": {
    "slideshow": {
     "slide_type": "subslide"
    }
   },
   "outputs": [
    {
     "data": {
      "text/plain": [
       "<matplotlib.axes._subplots.AxesSubplot at 0x12036ada0>"
      ]
     },
     "execution_count": 6,
     "metadata": {},
     "output_type": "execute_result"
    },
    {
     "data": {
      "image/png": "[encoded data removed]",
      "text/plain": [
       "<Figure size 432x288 with 1 Axes>"
      ]
     },
     "metadata": {
      "needs_background": "light"
     },
     "output_type": "display_data"
    }
   ],
   "source": [
    "sns.countplot(x=\"Week\",hue=\"Rating (Num)\", data=data)"
   ]
  },
  {
   "cell_type": "markdown",
   "metadata": {
    "slideshow": {
     "slide_type": "slide"
    }
   },
   "source": [
    "# What are things we could find here that could “help the business”?\n",
    "\n",
    "##### From the data given we could find what track has the most detractors on average and spend resources improving that class thus improving experience or remove it all together and spend the extra resources on the other better received tracks.\n",
    "\n",
    "##### Another thing we could find is where most of the students are from so we can either push more ads there or retract some and place them where we could use more admissions from."
   ]
  },
  {
   "cell_type": "markdown",
   "metadata": {
    "slideshow": {
     "slide_type": "slide"
    }
   },
   "source": [
    "# What sorts of information does this dataset contain?\n",
    " \n",
    " ##### This dataset contains information that can be used to improve the buisness depeding  on what questions and how many questions are ask there are vareing levels of success\n",
    " \n",
    " ##### it also contains data that would allow for a better sudent experience."
   ]
  },
  {
   "cell_type": "markdown",
   "metadata": {
    "slideshow": {
     "slide_type": "slide"
    }
   },
   "source": [
    "\n",
    "# What kinds of questions might we be able to answer with this data?\n",
    "\n",
    "##### With this data we can answer questions about student satisfaction what courses need more attention or even just what would make an over all better experience. We can Also answer question about marketing and see if the admitees are from ares where ads are pushed.\n"
   ]
  },
  {
   "cell_type": "markdown",
   "metadata": {
    "slideshow": {
     "slide_type": "slide"
    }
   },
   "source": [
    "\n",
    "# What kinds of questions can’t we answer with this data?\n",
    "##### Questions likes Does Student Satisfaction correlate with students performance, or does student living situatation contriubute to their experience.  "
   ]
  },
  {
   "cell_type": "markdown",
   "metadata": {
    "slideshow": {
     "slide_type": "slide"
    }
   },
   "source": [
    "# What sorts of information might be actionable?\n",
    "##### Information about Tracks, student satisfaction, and promoters vs detractors can all be actionable.\n"
   ]
  },
  {
   "cell_type": "markdown",
   "metadata": {
    "slideshow": {
     "slide_type": "slide"
    }
   },
   "source": [
    "\n",
    "# How can you present your findings in a way that non-technical employees can understand and use to make decisions?\n",
    "\n",
    "##### To present data to non-technical employees you dont have to go indepths on how you got the answer just have diagrams and final numbers also make sure that if presenting calculations that they wont take long for someone to resolve."
   ]
  },
  {
   "cell_type": "markdown",
   "metadata": {
    "slideshow": {
     "slide_type": "skip"
    }
   },
   "source": []
  }
 ],
 "metadata": {
  "celltoolbar": "Slideshow",
  "kernelspec": {
   "display_name": "Python 3",
   "language": "python",
   "name": "python3"
  },
  "language_info": {
   "codemirror_mode": {
    "name": "ipython",
    "version": 3
   },
   "file_extension": ".py",
   "mimetype": "text/x-python",
   "name": "python",
   "nbconvert_exporter": "python",
   "pygments_lexer": "ipython3",
   "version": "3.7.3"
  }
 },
 "nbformat": 4,
 "nbformat_minor": 2
}
