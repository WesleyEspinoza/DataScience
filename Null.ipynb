{
 "cells": [
  {
   "cell_type": "code",
   "execution_count": 3,
   "metadata": {},
   "outputs": [
    {
     "name": "stdout",
     "output_type": "stream",
     "text": [
      "0.15865525393145707\n"
     ]
    },
    {
     "data": {
      "text/plain": [
       "0.15865525393145707"
      ]
     },
     "execution_count": 3,
     "metadata": {},
     "output_type": "execute_result"
    }
   ],
   "source": [
    "from scipy.stats import norm\n",
    "\n",
    "print(norm.sf(70, loc=60, scale=10))\n",
    "1 - norm.cdf(70, loc=60, scale=10)"
   ]
  },
  {
   "cell_type": "code",
   "execution_count": 5,
   "metadata": {},
   "outputs": [],
   "source": [
    "import numpy as np\n",
    "def accept_or_reject_null_hypothesis(mu, sample_mean, significant_level, N, sigma):\n",
    "    # Calculate standard diviation of the sample_level\n",
    "    den = sigma / np.sqrt(N)\n",
    "    \n",
    "    # calculate z_score from population mean(mu), sample mean and sample std\n",
    "    \n",
    "    z_score = (sample_mean - mu) / den\n",
    "    \n",
    "    # calculate p_value from z_score\n",
    "    \n",
    "    p_value = 2 * norm.cdf(-np.abs(z_score))\n",
    "    # p_value = 2 * norm.sf(np.abs(z_score))\n",
    "    \n",
    "    \n",
    "     # determin wehether to accept null hypothesis or not\n",
    "    if p_value <= significant_value:\n",
    "        print('reject null hypothesis')\n",
    "    else:\n",
    "        print('accept null hypothesis')\n",
    "    "
   ]
  },
  {
   "cell_type": "code",
   "execution_count": null,
   "metadata": {},
   "outputs": [],
   "source": [
    "from scipy import stats\n"
   ]
  }
 ],
 "metadata": {
  "kernelspec": {
   "display_name": "Python 3",
   "language": "python",
   "name": "python3"
  },
  "language_info": {
   "codemirror_mode": {
    "name": "ipython",
    "version": 3
   },
   "file_extension": ".py",
   "mimetype": "text/x-python",
   "name": "python",
   "nbconvert_exporter": "python",
   "pygments_lexer": "ipython3",
   "version": "3.7.3"
  }
 },
 "nbformat": 4,
 "nbformat_minor": 2
}
